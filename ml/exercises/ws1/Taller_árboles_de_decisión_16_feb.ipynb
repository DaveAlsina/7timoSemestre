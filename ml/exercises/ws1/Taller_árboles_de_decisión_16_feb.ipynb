{
  "nbformat": 4,
  "nbformat_minor": 0,
  "metadata": {
    "colab": {
      "provenance": []
    },
    "kernelspec": {
      "name": "python3",
      "display_name": "Python 3"
    },
    "language_info": {
      "name": "python"
    }
  },
  "cells": [
    {
      "cell_type": "markdown",
      "source": [
        "#Taller 2: Árboles de decisión"
      ],
      "metadata": {
        "id": "F1yqs8ZAAgoF"
      }
    },
    {
      "cell_type": "markdown",
      "source": [
        "En este taller analizaremos aspectos de árboles de decisión para varios conjuntos de datos. El primero es el [Play tennis dataset](https://www.kaggle.com/datasets/fredericobreno/play-tennis). El segundo es el [Iris dataset](https://archive.ics.uci.edu/ml/datasets/iris). El tercero es el [Pima Indians Diabetes Database](https://www.kaggle.com/datasets/uciml/pima-indians-diabetes-database). El cuarto es [Hitters](https://www.kaggle.com/datasets/floser/hitters).\n",
        "\n",
        "El taller consiste en realizar todas las tareas señaladas con #TO_DO.\n",
        "Se puede realizar de forma individual o en parejas.\n",
        "\n",
        "Entregar el cuaderno ejecutado y guardado en formato .ipynb y en formato .html Cargarlo a más tardar el miércoles 22 de febrero en la actividad creada en aulas."
      ],
      "metadata": {
        "id": "Tw1mQlCZU5lX"
      }
    },
    {
      "cell_type": "code",
      "source": [
        "#Importar librerías\n",
        "import pandas as pd\n",
        "from sklearn.datasets import load_iris\n",
        "from sklearn.model_selection import cross_val_score\n",
        "from sklearn.model_selection import train_test_split\n",
        "from sklearn.tree import DecisionTreeClassifier, plot_tree, DecisionTreeRegressor\n",
        "from sklearn import metrics\n",
        "import matplotlib.pyplot as plt"
      ],
      "metadata": {
        "id": "vkouMudDAiHb"
      },
      "execution_count": null,
      "outputs": []
    },
    {
      "cell_type": "markdown",
      "source": [
        "## Calculando el mejor atributo para el Tennis Dataset"
      ],
      "metadata": {
        "id": "bHrRRlMqZSAh"
      }
    },
    {
      "cell_type": "markdown",
      "source": [
        "En primer lugar, cargar y leer el conjunto de datos Play Tennis, e imprimir todas sus filas (son pocas)."
      ],
      "metadata": {
        "id": "HAqHm391W-Wp"
      }
    },
    {
      "cell_type": "code",
      "source": [
        "#leer el Play tennis dataset.\n",
        "#Mostrar todas sus filas."
      ],
      "metadata": {
        "id": "n8AYV6tGXQLB"
      },
      "execution_count": null,
      "outputs": []
    },
    {
      "cell_type": "markdown",
      "source": [
        "**TO_DO 1**\n",
        "Clacular la ganancia de información  para cada variable: \n",
        "$Gain(S,A)=Ent(S)-\\sum_{v\\in values(A)}\\frac{|S_v|}{|S|}Ent(S_v)$\n",
        "\n",
        "¿Cuál sería el mejor atributo para comenzar el árbol?\n",
        "Observación: Puede hacer sus cálculos a mano y adjuntar una imagen de los mismos, o programar. \n"
      ],
      "metadata": {
        "id": "WklVjMXtXXEc"
      }
    },
    {
      "cell_type": "markdown",
      "source": [
        "## Árbol de decisión para clasificación del Iris Dataset"
      ],
      "metadata": {
        "id": "rxOyJkxRZYYk"
      }
    },
    {
      "cell_type": "markdown",
      "source": [
        "Primero definimos el clasificador y lo entrenamos con el conjunto de datos de entrenamiento."
      ],
      "metadata": {
        "id": "JZsCE6Hnomib"
      }
    },
    {
      "cell_type": "code",
      "source": [
        "#TO_DO 2 Importar el Iris Dataset usando load_iris de sklearn (ya se importó load_iris). Darle el nombre 'iris'.\n",
        "# Guardar en X,y las variables de entrada y salida respectivamente, en tipo DataFrame.\n",
        "# Usar iris.data, iris.target.\n"
      ],
      "metadata": {
        "id": "1-5c1RApEZDR"
      },
      "execution_count": null,
      "outputs": []
    },
    {
      "cell_type": "code",
      "source": [
        "#TO_DO 3 Separar en Train y Test set con una proporción de 70%-30%."
      ],
      "metadata": {
        "id": "nv4ayGetbLIn"
      },
      "execution_count": null,
      "outputs": []
    },
    {
      "cell_type": "code",
      "source": [
        "#TO_DO 4 Definir un clasificador de árbol de decisión con DecisionTreeClassifier de SKLearn. \n",
        "#Usar los parámetros random_state=0 y criterion='entropy'\n",
        "#Entrenarlo\n",
        "\n",
        "clf = DecisionTreeClassifier()\n",
        "clf.fit()"
      ],
      "metadata": {
        "id": "YdWECaEdbajR"
      },
      "execution_count": null,
      "outputs": []
    },
    {
      "cell_type": "markdown",
      "source": [
        "Medimos la precisión: la proporción entre predicciones correctas y el total de predicciones:"
      ],
      "metadata": {
        "id": "JToFDG6Bdsi1"
      }
    },
    {
      "cell_type": "code",
      "source": [
        "y_pred = clf.predict(X_test)\n",
        "print(\"Accuracy:\",metrics.accuracy_score(y_test, y_pred))"
      ],
      "metadata": {
        "id": "bvLS1_ZPd1iY"
      },
      "execution_count": null,
      "outputs": []
    },
    {
      "cell_type": "markdown",
      "source": [
        "**Plot**\n",
        "Graficamos el árbol obtenido mediante el uso de plot_tree.\n",
        "To_do 5\n",
        "¿Qué información identifica en el árbol?"
      ],
      "metadata": {
        "id": "hMu-c-hDeec3"
      }
    },
    {
      "cell_type": "code",
      "source": [
        "plt.figure(figsize=(40,20))\n",
        "plot_tree(clf, filled=True, class_names=True)\n",
        "plt.title(\"Decision tree training for training dataset\")\n",
        "plt.show()"
      ],
      "metadata": {
        "id": "YMkutzNned59"
      },
      "execution_count": null,
      "outputs": []
    },
    {
      "cell_type": "markdown",
      "source": [
        "**TO_DO 6**: Explore algunos métodos del DecisionTreeClassifier como apply, get_depth, get_n_leaves. Calcúlelos y corrobore su resultado usando el diagrama de árbol. "
      ],
      "metadata": {
        "id": "nE6NI7e1eyPr"
      }
    },
    {
      "cell_type": "code",
      "source": [
        "# Aplicar métodos apply, get_depth, get_n_leaves y entender lo que dicen del árbol."
      ],
      "metadata": {
        "id": "9r0qCM3zAisi"
      },
      "execution_count": null,
      "outputs": []
    },
    {
      "cell_type": "markdown",
      "source": [],
      "metadata": {
        "id": "7yAjoEwLohzC"
      }
    },
    {
      "cell_type": "markdown",
      "source": [
        "## Diabetes Dataset\n",
        "\n",
        "\n",
        "\n"
      ],
      "metadata": {
        "id": "FcztccV6y_H-"
      }
    },
    {
      "cell_type": "markdown",
      "source": [
        "\n",
        "A continuación se entrenará un árbol de decisión para el conjunto de datos sobre diabetes. \n",
        "\n",
        "**TO_DO 7**:\n",
        "- Entrene un árbol de decisión utilizando el clasificador de SKLearn con un conjunto de entrenamiento del 80% del dataset. Utilice random_state=0 y el criterio de entropía. \n",
        "\n",
        "**TO_DO 8**: \n",
        "- Grafique el árbol. ¿Cuál es la precisión de este modelo?"
      ],
      "metadata": {
        "id": "7FA-uwnfpRYQ"
      }
    },
    {
      "cell_type": "code",
      "source": [
        "## Su código aquí"
      ],
      "metadata": {
        "id": "yVG5qlHSH7GY"
      },
      "execution_count": null,
      "outputs": []
    },
    {
      "cell_type": "markdown",
      "source": [
        "## Poda del árbol"
      ],
      "metadata": {
        "id": "a3I0YkNKOSHb"
      }
    },
    {
      "cell_type": "markdown",
      "source": [
        "Uno de los parámetros del DecisionTreeClassifier es *ccp_alpha*, el cual es un parámetro para la poda del árbol mediante el método *Mínimal cost complexity*. El código siguiente arroja una lista de valores de alpha que resultan efectivos en la poda del árbol. \n",
        "\n",
        "Entre mayor es el valor de $\\alpha$, más se poda el árbol. "
      ],
      "metadata": {
        "id": "-gX10nRMpXZF"
      }
    },
    {
      "cell_type": "code",
      "source": [
        "path = clf.cost_complexity_pruning_path(X_train, y_train)\n",
        "ccp_alphas, impurities = path.ccp_alphas, path.impurities\n",
        "ccp_alphas"
      ],
      "metadata": {
        "id": "SnCQRsAD0lWi"
      },
      "execution_count": null,
      "outputs": []
    },
    {
      "cell_type": "markdown",
      "source": [
        "**TO_DO 9:** \n",
        "Usando el arreglo de valores de *ccp_alpha* arrojados en la celda anterior, crear un loop que entrene un árbol para cada parámetro de ccp_alpha e imprima su precisión. \n",
        "¿Cuál es el valor de ccp_alpha optimo?"
      ],
      "metadata": {
        "id": "wdzfK6u_vt3B"
      }
    },
    {
      "cell_type": "code",
      "source": [
        "## código aquí"
      ],
      "metadata": {
        "id": "DMpB5jff9PDe"
      },
      "execution_count": null,
      "outputs": []
    },
    {
      "cell_type": "markdown",
      "source": [
        "**TO_DO 10:**\n",
        "Entrenar un clasificador con el ccp_alpha óptimo. Graficarlo y compararlo con el árbol inicial. "
      ],
      "metadata": {
        "id": "yh0clgfIzWn9"
      }
    },
    {
      "cell_type": "markdown",
      "source": [
        "## Árbol de regresión"
      ],
      "metadata": {
        "id": "2L8s8kKfBv_h"
      }
    },
    {
      "cell_type": "markdown",
      "source": [
        "Para éste ejercicio usamos el dataset de Hitters, cuya variable objetivo es el salario, el cual no es una variable categórica. Para esto necesitamos un árbol de regresión. A saber, DecisionTreeRegressor. "
      ],
      "metadata": {
        "id": "um8L7CnRpeHx"
      }
    },
    {
      "cell_type": "markdown",
      "source": [
        "Primero leemos el dataset, y consideramos como entrada  X únicamente dos de sus variables: Years, Hits. Tomamos como variable objetivo el salario."
      ],
      "metadata": {
        "id": "k0vxBx4Nydan"
      }
    },
    {
      "cell_type": "code",
      "source": [
        "df = pd.read_csv('Hitters.csv').dropna()\n",
        "df.info()"
      ],
      "metadata": {
        "id": "fgBn00RvByaU"
      },
      "execution_count": null,
      "outputs": []
    },
    {
      "cell_type": "code",
      "source": [
        "X = df[['Years', 'Hits']] # Tomamos sólo dos de las columnas\n",
        "y = df.Salary"
      ],
      "metadata": {
        "id": "X-3D0numCEch"
      },
      "execution_count": null,
      "outputs": []
    },
    {
      "cell_type": "markdown",
      "source": [
        "**TO_DO 11**\n",
        "Entrenar un árbol de regresión en X,y con el parámetro max_leaf_nodes=3; usar el método score (coeficiente de determinación)para medir su desempeño, y graficarlo.\n"
      ],
      "metadata": {
        "id": "qbDpT0IyzsiS"
      }
    },
    {
      "cell_type": "code",
      "source": [
        "## código aquí"
      ],
      "metadata": {
        "id": "SGD2Q1OdCKGV"
      },
      "execution_count": null,
      "outputs": []
    },
    {
      "cell_type": "code",
      "source": [
        "## Graficar el árbol"
      ],
      "metadata": {
        "id": "E9DzyiqdDcmY"
      },
      "execution_count": null,
      "outputs": []
    },
    {
      "cell_type": "markdown",
      "source": [
        "**TO_DO 12:**\n",
        "¿En cuántas regiones $R_i$ separó el espacio de las dos variables de entrada el árbol anterior? Descríbalas."
      ],
      "metadata": {
        "id": "bIMxvL770bYG"
      }
    }
  ]
}