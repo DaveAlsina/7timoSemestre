{
  "nbformat": 4,
  "nbformat_minor": 0,
  "metadata": {
    "colab": {
      "provenance": []
    },
    "kernelspec": {
      "name": "python3",
      "display_name": "Python 3"
    },
    "language_info": {
      "name": "python"
    }
  },
  "cells": [
    {
      "cell_type": "markdown",
      "source": [
        "# Taller Vecinos más cercanos (KNN)"
      ],
      "metadata": {
        "id": "vb7JcpGytwI-"
      }
    },
    {
      "cell_type": "markdown",
      "source": [
        "Usamos el método de vecinos más cercanos para clasificación. Por un lado, analizamos el Iris Dataset sobre especies de flores. Por el otro lado analizamos la supervivencia en la tragedia del Titanic utilizando diferentes valores de K. \n",
        "\n",
        "Importamos primero las librerías y paquetes que utilizaremos. Puede importar otros si lo considera útil."
      ],
      "metadata": {
        "id": "TfBew5r1uKq3"
      }
    },
    {
      "cell_type": "code",
      "source": [
        "#importar paquetes\n",
        "import numpy as np\n",
        "import pandas as pd\n",
        "import matplotlib.pyplot as plt\n",
        "from sklearn.model_selection import train_test_split\n",
        "from sklearn.neighbors import KNeighborsClassifier"
      ],
      "metadata": {
        "id": "y1nYtnFwncsf"
      },
      "execution_count": null,
      "outputs": []
    },
    {
      "cell_type": "markdown",
      "source": [
        "## Iris Dataset\n",
        "\n",
        "Importamos el conjunto de datos desde sklearn.\n",
        "\n",
        "\n"
      ],
      "metadata": {
        "id": "y2PGF2SZV1Ep"
      }
    },
    {
      "cell_type": "code",
      "execution_count": null,
      "metadata": {
        "id": "-je5Z5yIiAht"
      },
      "outputs": [],
      "source": [
        "#importar dataset\n",
        "from sklearn.datasets import load_iris"
      ]
    },
    {
      "cell_type": "code",
      "source": [
        "#Importar iris dataset y separar en data y target\n",
        "iris = load_iris()\n",
        "X=pd.DataFrame(iris.data)\n",
        "y=pd.DataFrame(iris.target)"
      ],
      "metadata": {
        "id": "aGVzYnkVAzcG"
      },
      "execution_count": null,
      "outputs": []
    },
    {
      "cell_type": "markdown",
      "source": [
        "Primero separamos el conjunto de datos en Train y Test, en una proporción de 70%, 30%."
      ],
      "metadata": {
        "id": "4b1lK_jfRN0G"
      }
    },
    {
      "cell_type": "code",
      "source": [
        "#Separar en train y test\n",
        "X_train, X_test, y_train, y_test ="
      ],
      "metadata": {
        "id": "iD4eBBStBuIu"
      },
      "execution_count": null,
      "outputs": []
    },
    {
      "cell_type": "markdown",
      "source": [
        "Importamos el classificador KNeighborsClassifier de SKLearn con el nombre *knn*. Usar k=3.\n"
      ],
      "metadata": {
        "id": "CCarZX--RanF"
      }
    },
    {
      "cell_type": "code",
      "source": [
        "#TODO1 importar KNeighborsClassifier con k=3 con el nombre knn\n"
      ],
      "metadata": {
        "id": "vsn3h3j2BmAk"
      },
      "execution_count": null,
      "outputs": []
    },
    {
      "cell_type": "markdown",
      "source": [
        "Entrenamos el clasificador con los datos de entrenamiento."
      ],
      "metadata": {
        "id": "EIWHeEGDSMeY"
      }
    },
    {
      "cell_type": "code",
      "source": [
        "#TODO2 entrenar knn con los datos de entrenamiento\n"
      ],
      "metadata": {
        "id": "bxM2E55YB6n0"
      },
      "execution_count": null,
      "outputs": []
    },
    {
      "cell_type": "markdown",
      "source": [
        "Calculamos la exactitud del modelo en los datos Test, con el método *score* del clasificador."
      ],
      "metadata": {
        "id": "6cQAgKmeSd78"
      }
    },
    {
      "cell_type": "code",
      "source": [
        "#TODO3 calcular la exactitud (score) del modelo en los datos test."
      ],
      "metadata": {
        "id": "zlrL9JhAB87q"
      },
      "execution_count": null,
      "outputs": []
    },
    {
      "cell_type": "markdown",
      "source": [
        "**TODO 4**: Observe los diagramas de dispersión del Iris datset [aquí](https://es.wikipedia.org/wiki/Conjunto_de_datos_flor_iris).¿Cree que la exactitud mejorará con un k más pequeño?¿Cree que mejorará con un K más grande? ¿Por qué?\n",
        "\n",
        "## Titanic Dataset\n",
        "Ahora analizamos la supervivencia en el naufragio del Titanic. El conjunto de datos, así como el diccionario de atributos, puede verlos [aquí](https://www.kaggle.com/competitions/titanic/data).\n",
        "\n",
        "*Observación* Usaremos sólo el conjunto Train proporcionado en Kaggle para la fase Test y Train en el taller."
      ],
      "metadata": {
        "id": "SeWq0Z6I0Jkk"
      }
    },
    {
      "cell_type": "code",
      "source": [
        "#importar los datos de entrenamiento del Titanic Dataset.\n",
        "df=pd.read_csv(\"train.csv\")\n"
      ],
      "metadata": {
        "id": "mmzuPixPE4NO"
      },
      "execution_count": null,
      "outputs": []
    },
    {
      "cell_type": "markdown",
      "source": [
        "Eliminar del dataframe las filas con valores ausentes (NaN)."
      ],
      "metadata": {
        "id": "_NN0VP4BU2Pw"
      }
    },
    {
      "cell_type": "code",
      "source": [
        "#TODO5 Remover filas con valores ausentes."
      ],
      "metadata": {
        "id": "PBJCxZPgVRb8"
      },
      "execution_count": null,
      "outputs": []
    },
    {
      "cell_type": "markdown",
      "source": [
        "Explorar el dataset mediante su visualización, el uso de los métodos *head*, *info* y *value_counts* para los Dataframes en pandas y sus columnas. ¿Qué tipo de variables tiene? qué caracteriza a los valores de dichas variables? ¿Qué tipos de datos se usan?"
      ],
      "metadata": {
        "id": "fjq8-ogxXt_5"
      }
    },
    {
      "cell_type": "code",
      "source": [
        "#TODO6 Explorar el dataset\n"
      ],
      "metadata": {
        "id": "03OZ6O4kFHaA"
      },
      "execution_count": null,
      "outputs": []
    },
    {
      "cell_type": "markdown",
      "source": [
        "**TODO7**: ¿Cuáles considera, de acuero a su intuición que son las variables más relevantes para predecir la columna 'Survived'? ¿Cuáles considera irrelevantes?¿Por qué?"
      ],
      "metadata": {
        "id": "J0_OIMbr0ueD"
      }
    },
    {
      "cell_type": "code",
      "source": [
        "#Separar la columna objetivo.\n",
        "X=df.drop('Survived',axis=1)\n",
        "y=df['Survived']"
      ],
      "metadata": {
        "id": "iYLagSw_RRbm"
      },
      "execution_count": null,
      "outputs": []
    },
    {
      "cell_type": "code",
      "source": [
        "#TODO8 Remover columnas que usted considera irrelevantes.\n",
        "X=X.drop([_______],axis=1)"
      ],
      "metadata": {
        "id": "7JdsO_6TFuTN"
      },
      "execution_count": null,
      "outputs": []
    },
    {
      "cell_type": "markdown",
      "source": [
        "Convertimos a dummies las columnas categóricas. Nos aseguramos de que las originales no permanezcan en la tabla. Se sugiere usar el parámetro drop_first = True si está trabajando con Getdummies. ¿Por qué cree que es conveniente usar este parámetro?"
      ],
      "metadata": {
        "id": "hjvGHlBPY0K-"
      }
    },
    {
      "cell_type": "code",
      "source": [
        "#TODO9 Convertir a dummies. Asegurarse de eliminar las columnas originales. Se sugiere usar el parámetro drop_first=True si se está trabajando con getdummies.\n"
      ],
      "metadata": {
        "id": "0Z6hkkziHYAh"
      },
      "execution_count": null,
      "outputs": []
    },
    {
      "cell_type": "code",
      "source": [
        "#Imprimir info de X\n",
        "X.info()"
      ],
      "metadata": {
        "id": "4kPUIxpLYCCC"
      },
      "execution_count": null,
      "outputs": []
    },
    {
      "cell_type": "code",
      "source": [
        "X_train, X_test, y_train, y_test = train_test_split(X, y, random_state = 0, test_size=0.2, shuffle=True)"
      ],
      "metadata": {
        "id": "PtAfpNePYEXH"
      },
      "execution_count": null,
      "outputs": []
    },
    {
      "cell_type": "markdown",
      "source": [
        "Ahora entrenamos clasificadores de KNN con diferentes valores de k y visualizamos el cambio entre ellos."
      ],
      "metadata": {
        "id": "KMI-RrTtZ_ew"
      }
    },
    {
      "cell_type": "code",
      "source": [
        "#TODO10 para k entre 1 y 100, entrenar knn en los datos de entrenamiento. Calcular sus respectivos scores\n",
        "# Guardar los scores en una lista llamada \"scores\"."
      ],
      "metadata": {
        "id": "LkLTPdgR3wjt"
      },
      "execution_count": null,
      "outputs": []
    },
    {
      "cell_type": "code",
      "source": [
        "#Graficar scores\n",
        "plt.plot(scores)"
      ],
      "metadata": {
        "id": "tgH9ocJUcFRa"
      },
      "execution_count": null,
      "outputs": []
    },
    {
      "cell_type": "markdown",
      "source": [
        "**TODO11** ¿Qué se puede concluir a partir de la gráfica anterior?\n",
        "\n",
        "**TODO12:** Determinar si las siguientes afirmaciones son verdaderas o falsas. Justificar su respuesta.\n",
        "\n",
        "- El score en el test set de 1-NN siempre será menor o igual que el de 5-NN.  \n",
        "\n",
        "- El tiempo para clasificar una muestra del testset con k-NN crece con el tamaño del train set. "
      ],
      "metadata": {
        "id": "7PqA_ttX5OKX"
      }
    },
    {
      "cell_type": "markdown",
      "source": [
        "## Titanic dataset usando pesos en la distancia."
      ],
      "metadata": {
        "id": "LVAyfDXOa7q7"
      }
    },
    {
      "cell_type": "markdown",
      "source": [
        "A continuación usamos clasificadores de KNN dándole pesos a las distancias. \n",
        "\n",
        "**TODO13:** ¿Nota alguna diferencia con la clasificación sin pesos en las distancias? ¿Alguna hipótesis sobre el porqué?"
      ],
      "metadata": {
        "id": "r75ERgX0bGdx"
      }
    },
    {
      "cell_type": "code",
      "source": [
        "# Weighted k-nn\n",
        "scores=[]\n",
        "for n in range(1,100):\n",
        "  knn = KNeighborsClassifier(n_neighbors=n, weights='distance')\n",
        "  knn.fit(X_train,y_train)\n",
        "  s=knn.score(X_test,y_test)\n",
        "  scores.append(s)\n",
        "  print(s)"
      ],
      "metadata": {
        "id": "XlgtFggZbc48"
      },
      "execution_count": null,
      "outputs": []
    },
    {
      "cell_type": "code",
      "source": [
        "#Graficar\n",
        "plt.plot(scores)"
      ],
      "metadata": {
        "id": "EMK3f_vNb5wV"
      },
      "execution_count": null,
      "outputs": []
    }
  ]
}