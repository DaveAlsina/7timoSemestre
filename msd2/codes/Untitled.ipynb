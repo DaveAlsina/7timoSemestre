{
 "cells": [
  {
   "cell_type": "code",
   "execution_count": 26,
   "id": "2c64eb7a",
   "metadata": {},
   "outputs": [],
   "source": [
    "import numpy as np\n",
    "\n",
    "%matplotlib inline\n",
    "import matplotlib.pyplot as plt "
   ]
  },
  {
   "cell_type": "markdown",
   "id": "02823c09",
   "metadata": {},
   "source": [
    "- Compute a numerical solution, using second order approximation for both partial derivatives and initial data\n",
    "\n",
    "$$g(x) = e^{-300(x-0.5)^2}$$\n",
    "\n",
    "Use the following parameters: $\\Delta x= \\Delta t = 0.001$, $c=1$. Plot the solution at every $0.25$ units of time from $t=0$ to $t=1.5$.\n"
   ]
  },
  {
   "cell_type": "code",
   "execution_count": 13,
   "id": "d3f9520e",
   "metadata": {},
   "outputs": [],
   "source": [
    "#funcion definition\n",
    "g = lambda x: np.exp( -300*((x -0.5)**2) )"
   ]
  },
  {
   "cell_type": "markdown",
   "id": "ddb6660b",
   "metadata": {},
   "source": [
    "## Lax-Wendroff method implementation\n",
    "\n",
    "We have to start by building our discrete mesh which ilustrates the space-time grid where we will be working on.\n",
    "\n",
    "In this case we divide the timespan as follows:\n",
    "\n",
    "\\begin{align}\n",
    "\\vec{x}\\ &=\\ <0,\\quad 1\\Delta x,\\quad 2\\Delta x,\\quad...\\quad, i\\Delta x,\\quad ...\\quad ,xend> \\quad i=0,1,...,N_{x}\\\\\n",
    "\\vec{t}\\ &=\\ <0,\\quad 1\\Delta t,\\quad 2\\Delta t,\\quad...\\quad, i\\Delta t,\\quad ...\\quad ,tend> \\quad i=0,1,...,N_{t}\n",
    "\\end{align}\n"
   ]
  },
  {
   "cell_type": "code",
   "execution_count": 31,
   "id": "8bd55b10",
   "metadata": {},
   "outputs": [],
   "source": [
    "def lax_wendroff_method(xend: float,\n",
    "                        tend: float,\n",
    "                        xstart = 0, \n",
    "                        tstart = 0,\n",
    "                        dx = 0.001,\n",
    "                        dt = 0.001, \n",
    "                        c  = 1):\n",
    "    \n",
    "    #span of time and space\n",
    "    timespan  = np.arange(start = tstart, stop = tend + dt, step = dt)\n",
    "    spacespan = np.arange(start = xstart, stop = xend + dx, step = dx)\n",
    "\n",
    "    \n",
    "    #number of elements in the time and space span\n",
    "    Nx = len(spacespan)\n",
    "    Nt = len(timespan)\n",
    "    \n",
    "    #some function relevant contstans\n",
    "    sigma = c*dx/dt\n",
    "    \n",
    "    # Initialize solution matrix  \n",
    "    X, Y = np.meshgrid(spacespan, timespan)\n",
    "    \n",
    "\n",
    "\n",
    "lax_wendroff_method(xend = 1, tend = 1.5)"
   ]
  }
 ],
 "metadata": {
  "kernelspec": {
   "display_name": "Python 3 (ipykernel)",
   "language": "python",
   "name": "python3"
  },
  "language_info": {
   "codemirror_mode": {
    "name": "ipython",
    "version": 3
   },
   "file_extension": ".py",
   "mimetype": "text/x-python",
   "name": "python",
   "nbconvert_exporter": "python",
   "pygments_lexer": "ipython3",
   "version": "3.9.12"
  }
 },
 "nbformat": 4,
 "nbformat_minor": 5
}
