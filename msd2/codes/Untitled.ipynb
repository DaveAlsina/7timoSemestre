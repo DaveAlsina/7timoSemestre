{
 "cells": [
  {
   "cell_type": "code",
   "execution_count": 9,
   "id": "0ee0e39b",
   "metadata": {},
   "outputs": [],
   "source": [
    "import numpy as np"
   ]
  },
  {
   "cell_type": "markdown",
   "id": "584aa1ea",
   "metadata": {},
   "source": [
    "- Compute a numerical solution, using second order approximation for both partial derivatives and initial data\n",
    "\n",
    "$$g(x) = e^{-300(x-0.5)^2}$$\n",
    "\n",
    "Use the following parameters: $\\Delta x= \\Delta t = 0.001$, $c=1$. Plot the solution at every $0.25$ units of time from $t=0$ to $t=1.5$.\n"
   ]
  },
  {
   "cell_type": "code",
   "execution_count": 23,
   "id": "3d90c39b",
   "metadata": {},
   "outputs": [],
   "source": [
    "#resolution of steps on space and time\n",
    "dx = 0.001\n",
    "dt = 0.001\n",
    "\n",
    "#span of time and space\n",
    "timespan  = np.arange(start = 0, stop = 1.5 + dt, step = dt)\n",
    "spacespan = np.arange(start = 0, stop = 1 + dx,   step = dx)\n",
    "\n",
    "#number of elements in the time and space span\n",
    "Nx = len(spacespan)\n",
    "Nt = len(timespan)\n",
    "\n",
    "#some function relevant contstans\n",
    "c = 1\n",
    "sigma = c*dx/dt"
   ]
  },
  {
   "cell_type": "markdown",
   "id": "d47ec35f",
   "metadata": {},
   "source": [
    "$$g(x) = e^{-300(x-0.5)^2}$$\n"
   ]
  },
  {
   "cell_type": "code",
   "execution_count": 13,
   "id": "f74ed773",
   "metadata": {},
   "outputs": [],
   "source": [
    "#funcion definition\n",
    "g = lambda x: np.exp( -300*((x -0.5)**2) )"
   ]
  },
  {
   "cell_type": "markdown",
   "id": "a2988852",
   "metadata": {},
   "source": [
    "## Lax-Wendroff method implementation\n",
    "\n",
    "\n"
   ]
  },
  {
   "cell_type": "code",
   "execution_count": null,
   "id": "d758a0df",
   "metadata": {},
   "outputs": [],
   "source": [
    "def lax_wendroff_method\n",
    "\n",
    "# Initialize solution matrix\n",
    "U = np.zeros((Nx, Nt))"
   ]
  }
 ],
 "metadata": {
  "kernelspec": {
   "display_name": "Python 3 (ipykernel)",
   "language": "python",
   "name": "python3"
  },
  "language_info": {
   "codemirror_mode": {
    "name": "ipython",
    "version": 3
   },
   "file_extension": ".py",
   "mimetype": "text/x-python",
   "name": "python",
   "nbconvert_exporter": "python",
   "pygments_lexer": "ipython3",
   "version": "3.9.12"
  }
 },
 "nbformat": 4,
 "nbformat_minor": 5
}
