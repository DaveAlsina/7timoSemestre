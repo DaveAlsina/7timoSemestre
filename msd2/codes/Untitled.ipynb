{
 "cells": [
  {
   "cell_type": "code",
   "execution_count": 26,
   "id": "517e7d85",
   "metadata": {},
   "outputs": [],
   "source": [
    "import numpy as np\n",
    "\n",
    "%matplotlib inline\n",
    "import matplotlib.pyplot as plt "
   ]
  },
  {
   "cell_type": "markdown",
   "id": "43cedf1d",
   "metadata": {},
   "source": [
    "- Compute a numerical solution, using second order approximation for both partial derivatives and initial data\n",
    "\n",
    "$$g(x) = e^{-300(x-0.5)^2}$$\n",
    "\n",
    "Use the following parameters: $\\Delta x= \\Delta t = 0.001$, $c=1$. Plot the solution at every $0.25$ units of time from $t=0$ to $t=1.5$.\n"
   ]
  },
  {
   "cell_type": "code",
   "execution_count": 13,
   "id": "f1c03918",
   "metadata": {},
   "outputs": [],
   "source": [
    "#funcion definition\n",
    "g = lambda x: np.exp( -300*((x -0.5)**2) )"
   ]
  },
  {
   "cell_type": "markdown",
   "id": "b22ad5ee",
   "metadata": {},
   "source": [
    "## solution method implementation\n",
    "\n",
    "We have to start by building our discrete mesh which ilustrates the space-time grid where we will be working on.\n",
    "\n",
    "In this case we discretize the time and space domain as follows:\n",
    "\n",
    "\\begin{align}\n",
    "\\vec{x}\\ &=\\ <0,\\quad 1\\Delta x,\\quad 2\\Delta x,\\quad...\\quad, i\\Delta x,\\quad ...\\quad ,xend> \\quad i=0,1,...,N_{x}\\\\\n",
    "\\vec{t}\\ &=\\ <0,\\quad 1\\Delta t,\\quad 2\\Delta t,\\quad...\\quad, i\\Delta t,\\quad ...\\quad ,tend> \\quad i=0,1,...,N_{t}\n",
    "\\end{align}\n"
   ]
  },
  {
   "cell_type": "code",
   "execution_count": 32,
   "id": "36be0217",
   "metadata": {},
   "outputs": [],
   "source": [
    "def solution_method(xend: float,\n",
    "                        tend: float,\n",
    "                        xstart = 0, \n",
    "                        tstart = 0,\n",
    "                        dx = 0.001,\n",
    "                        dt = 0.001, \n",
    "                        c  = 1):\n",
    "    \n",
    "    #span of time and space\n",
    "    timespan  = np.arange(start = tstart, stop = tend + dt, step = dt)\n",
    "    spacespan = np.arange(start = xstart, stop = xend + dx, step = dx)\n",
    "\n",
    "    \n",
    "    #number of elements in the time and space span\n",
    "    Nx = len(spacespan)\n",
    "    Nt = len(timespan)\n",
    "    \n",
    "    #some function relevant contstans\n",
    "    sigma = c*dx/dt\n",
    "    \n",
    "    # Initialize solution matrix  \n",
    "    X, Y = np.meshgrid(spacespan, timespan)\n",
    "    \n",
    "\n",
    "\n",
    "solution_method(xend = 1, tend = 1.5)"
   ]
  },
  {
   "cell_type": "code",
   "execution_count": 47,
   "id": "3f0d60a5",
   "metadata": {},
   "outputs": [],
   "source": [
    "import numpy as np\n",
    "import matplotlib.pyplot as plt\n",
    "\n",
    "def solve_wave_eqn(c:      float,\n",
    "                   g:      callable,\n",
    "                   startt: float, \n",
    "                   startx:  float,\n",
    "                   endt:   float, \n",
    "                   endx:   float,\n",
    "                   dt:     float, \n",
    "                   dx:     float,\n",
    "                  ) -> np.ndarray:\n",
    "    \n",
    "    \"\"\"\n",
    "    Solves the wave equation u_tt - c^2 u_xx = 0 with Dirichlet boundary conditions\n",
    "    using the finite difference method with second order centered difference approximations. \n",
    "    \n",
    "    Parameters:\n",
    "        - c (float):    the wave speed.\n",
    "        - g (callable): the initial condition function, which takes a 1D NumPy array x and\n",
    "                        returns a 1D NumPy array of the same shape as x.\n",
    "        - N (int):      the number of grid points in the spatial domain, excluding the boundary points.\n",
    "        - T (float):    the length of the time interval.\n",
    "        - M (int):      the number of time steps.\n",
    "        \n",
    "    Returns:\n",
    "        - U (ndarray):  a 2D NumPy array of shape (M+1, N+2) containing the numerical solution\n",
    "                        U_ij at each grid point (x_j, t_i).\n",
    "    \"\"\"\n",
    "    \n",
    "    \n",
    "    x = np.arange(startx, endx+dx*2, dx) # include boundary points\n",
    "    t = np.arange(startt, endt+dt, dt) # include boundary points\n",
    "    \n",
    "    N = len(x)\n",
    "    M = len(t)\n",
    "    \n",
    "    U   = np.zeros((M, N))\n",
    "    \n",
    "    #constant for computing U\n",
    "    cte = (c**2)*(dt**2)/(dx**2)\n",
    "    \n",
    "    # set initial conditions\n",
    "    U[0, 1:N+1] = g(x[1:N+1])\n",
    "    U[1, 1:N+1] = U[0,1:N+1] + dt*g(x[1:N+1])\n",
    "    \n",
    "    \n",
    "    # compute numerical solution\n",
    "    for n in range(1, M-1):\n",
    "        for j in range(1, N-1):\n",
    "            U[n+1,j] = 2*U[n,j] - U[n-1,j] +  (cte * (U[n,j-1] - 2*U[n,j] + U[n,j+1]))\n",
    "        \n",
    "        # apply boundary conditions\n",
    "        U[n+1,0] = 0\n",
    "        U[n+1,N] = 0\n",
    "        U[n+1,1] = U[n+1,2] + (cte * (U[n+1,0] - 2*U[n+1,1] + U[n+1,2]))\n",
    "        U[n+1,N] = U[n+1,N-1] + (cte * (U[n+1,N+1] - 2*U[n+1,N] + U[n+1,N-1]))\n",
    "    \n",
    "    return U\n"
   ]
  },
  {
   "cell_type": "code",
   "execution_count": 48,
   "id": "4de5f159",
   "metadata": {},
   "outputs": [
    {
     "ename": "IndexError",
     "evalue": "index 1002 is out of bounds for axis 1 with size 1002",
     "output_type": "error",
     "traceback": [
      "\u001b[0;31m---------------------------------------------------------------------------\u001b[0m",
      "\u001b[0;31mIndexError\u001b[0m                                Traceback (most recent call last)",
      "Input \u001b[0;32mIn [48]\u001b[0m, in \u001b[0;36m<cell line: 14>\u001b[0;34m()\u001b[0m\n\u001b[1;32m     11\u001b[0m endt   \u001b[38;5;241m=\u001b[39m \u001b[38;5;241m1.5\u001b[39m\n\u001b[1;32m     12\u001b[0m endx   \u001b[38;5;241m=\u001b[39m \u001b[38;5;241m1\u001b[39m\n\u001b[0;32m---> 14\u001b[0m U \u001b[38;5;241m=\u001b[39m \u001b[43msolve_wave_eqn\u001b[49m\u001b[43m(\u001b[49m\u001b[43mc\u001b[49m\u001b[43m \u001b[49m\u001b[38;5;241;43m=\u001b[39;49m\u001b[43m \u001b[49m\u001b[43mc\u001b[49m\u001b[43m,\u001b[49m\n\u001b[1;32m     15\u001b[0m \u001b[43m                   \u001b[49m\u001b[43mg\u001b[49m\u001b[43m \u001b[49m\u001b[38;5;241;43m=\u001b[39;49m\u001b[43m \u001b[49m\u001b[43mg\u001b[49m\u001b[43m,\u001b[49m\n\u001b[1;32m     16\u001b[0m \u001b[43m                   \u001b[49m\u001b[43mstartt\u001b[49m\u001b[43m \u001b[49m\u001b[38;5;241;43m=\u001b[39;49m\u001b[43m \u001b[49m\u001b[43mstartt\u001b[49m\u001b[43m,\u001b[49m\n\u001b[1;32m     17\u001b[0m \u001b[43m                   \u001b[49m\u001b[43mstartx\u001b[49m\u001b[43m \u001b[49m\u001b[38;5;241;43m=\u001b[39;49m\u001b[43m \u001b[49m\u001b[43mstartx\u001b[49m\u001b[43m,\u001b[49m\n\u001b[1;32m     18\u001b[0m \u001b[43m                   \u001b[49m\u001b[43mendt\u001b[49m\u001b[43m   \u001b[49m\u001b[38;5;241;43m=\u001b[39;49m\u001b[43m \u001b[49m\u001b[43mendt\u001b[49m\u001b[43m,\u001b[49m\u001b[43m \u001b[49m\n\u001b[1;32m     19\u001b[0m \u001b[43m                   \u001b[49m\u001b[43mendx\u001b[49m\u001b[43m   \u001b[49m\u001b[38;5;241;43m=\u001b[39;49m\u001b[43m \u001b[49m\u001b[43mendx\u001b[49m\u001b[43m,\u001b[49m\n\u001b[1;32m     20\u001b[0m \u001b[43m                   \u001b[49m\u001b[43mdt\u001b[49m\u001b[43m     \u001b[49m\u001b[38;5;241;43m=\u001b[39;49m\u001b[43m \u001b[49m\u001b[43mdt\u001b[49m\u001b[43m,\u001b[49m\u001b[43m \u001b[49m\n\u001b[1;32m     21\u001b[0m \u001b[43m                   \u001b[49m\u001b[43mdx\u001b[49m\u001b[43m     \u001b[49m\u001b[38;5;241;43m=\u001b[39;49m\u001b[43m \u001b[49m\u001b[43mdx\u001b[49m\u001b[43m)\u001b[49m\n\u001b[1;32m     23\u001b[0m \u001b[38;5;66;03m# plot the numerical solution\u001b[39;00m\n\u001b[1;32m     24\u001b[0m X, T \u001b[38;5;241m=\u001b[39m np\u001b[38;5;241m.\u001b[39mmeshgrid(np\u001b[38;5;241m.\u001b[39mlinspace(\u001b[38;5;241m0\u001b[39m, \u001b[38;5;241m1\u001b[39m, N\u001b[38;5;241m+\u001b[39m\u001b[38;5;241m2\u001b[39m), np\u001b[38;5;241m.\u001b[39mlinspace(\u001b[38;5;241m0\u001b[39m, T, M\u001b[38;5;241m+\u001b[39m\u001b[38;5;241m1\u001b[39m))\n",
      "Input \u001b[0;32mIn [47]\u001b[0m, in \u001b[0;36msolve_wave_eqn\u001b[0;34m(c, g, startt, startx, endt, endx, dt, dx)\u001b[0m\n\u001b[1;32m     53\u001b[0m \u001b[38;5;66;03m# apply boundary conditions\u001b[39;00m\n\u001b[1;32m     54\u001b[0m U[n\u001b[38;5;241m+\u001b[39m\u001b[38;5;241m1\u001b[39m,\u001b[38;5;241m0\u001b[39m] \u001b[38;5;241m=\u001b[39m \u001b[38;5;241m0\u001b[39m\n\u001b[0;32m---> 55\u001b[0m U[n\u001b[38;5;241m+\u001b[39m\u001b[38;5;241m1\u001b[39m,N] \u001b[38;5;241m=\u001b[39m \u001b[38;5;241m0\u001b[39m\n\u001b[1;32m     56\u001b[0m U[n\u001b[38;5;241m+\u001b[39m\u001b[38;5;241m1\u001b[39m,\u001b[38;5;241m1\u001b[39m] \u001b[38;5;241m=\u001b[39m U[n\u001b[38;5;241m+\u001b[39m\u001b[38;5;241m1\u001b[39m,\u001b[38;5;241m2\u001b[39m] \u001b[38;5;241m+\u001b[39m (cte \u001b[38;5;241m*\u001b[39m (U[n\u001b[38;5;241m+\u001b[39m\u001b[38;5;241m1\u001b[39m,\u001b[38;5;241m0\u001b[39m] \u001b[38;5;241m-\u001b[39m \u001b[38;5;241m2\u001b[39m\u001b[38;5;241m*\u001b[39mU[n\u001b[38;5;241m+\u001b[39m\u001b[38;5;241m1\u001b[39m,\u001b[38;5;241m1\u001b[39m] \u001b[38;5;241m+\u001b[39m U[n\u001b[38;5;241m+\u001b[39m\u001b[38;5;241m1\u001b[39m,\u001b[38;5;241m2\u001b[39m]))\n\u001b[1;32m     57\u001b[0m U[n\u001b[38;5;241m+\u001b[39m\u001b[38;5;241m1\u001b[39m,N] \u001b[38;5;241m=\u001b[39m U[n\u001b[38;5;241m+\u001b[39m\u001b[38;5;241m1\u001b[39m,N\u001b[38;5;241m-\u001b[39m\u001b[38;5;241m1\u001b[39m] \u001b[38;5;241m+\u001b[39m (cte \u001b[38;5;241m*\u001b[39m (U[n\u001b[38;5;241m+\u001b[39m\u001b[38;5;241m1\u001b[39m,N\u001b[38;5;241m+\u001b[39m\u001b[38;5;241m1\u001b[39m] \u001b[38;5;241m-\u001b[39m \u001b[38;5;241m2\u001b[39m\u001b[38;5;241m*\u001b[39mU[n\u001b[38;5;241m+\u001b[39m\u001b[38;5;241m1\u001b[39m,N] \u001b[38;5;241m+\u001b[39m U[n\u001b[38;5;241m+\u001b[39m\u001b[38;5;241m1\u001b[39m,N\u001b[38;5;241m-\u001b[39m\u001b[38;5;241m1\u001b[39m]))\n",
      "\u001b[0;31mIndexError\u001b[0m: index 1002 is out of bounds for axis 1 with size 1002"
     ]
    }
   ],
   "source": [
    "\n",
    "# test the code with a sample initial condition and parameters\n",
    "def g(x):\n",
    "    return np.exp(-300*((x - 0.5)**2))\n",
    "\n",
    "c  = 1\n",
    "dt = 0.001\n",
    "dx = 0.001\n",
    "\n",
    "startt = 0\n",
    "startx = 0\n",
    "endt   = 1.5\n",
    "endx   = 1\n",
    "\n",
    "U = solve_wave_eqn(c = c,\n",
    "                   g = g,\n",
    "                   startt = startt,\n",
    "                   startx = startx,\n",
    "                   endt   = endt, \n",
    "                   endx   = endx,\n",
    "                   dt     = dt, \n",
    "                   dx     = dx)\n",
    "\n",
    "# plot the numerical solution\n",
    "X, T = np.meshgrid(np.linspace(0, 1, N+2), np.linspace(0, T, M+1))\n",
    "fig = plt.figure(figsize=(8,6))\n",
    "ax = fig.add_subplot(111, projection='3d')\n",
    "ax.plot_surface(X, T, U, cmap='plasma')\n",
    "ax.set_xlabel('x')\n",
    "ax.set_ylabel('t')\n",
    "ax.set_zlabel('U')\n",
    "plt.show()\n"
   ]
  },
  {
   "cell_type": "markdown",
   "id": "a4f27a66",
   "metadata": {},
   "source": [
    "Discretize the domain: Divide the interval $0<x<1$ into $N$ subintervals of equal length $\\Delta x$, such that $x_i = i \\Delta x$, where $i = 0,1,2,\\ldots,N$ and $x_0 = 0$, $x_N = 1$. Similarly, divide the time interval $0<t<T$ into $M$ subintervals of equal length $\\Delta t$, such that $t_j = j \\Delta t$, where $j = 0,1,2,\\ldots,M$ and $t_M = T$.\n",
    "\n",
    "Apply the initial and boundary conditions: Set the initial condition $u^{0}{i} = g(x_i)$ and the boundary conditions $u^{j}{0} = u^{j}_{N} = 0$ for all $j$.\n",
    "\n",
    "Compute the solution: Use the above numerical scheme to compute the values of $u^{j}_{i}$ at each grid point $(i,j)$ for $0\\le j \\le M$ and $0\\le i \\le N$.\n",
    "\n",
    "Note that the stability of the numerical scheme requires that $\\Delta t/\\Delta x \\leq 1/c$. In this case, we have $\\Delta t = \\Delta x = 0.001$, which satisfies the stability condition since $c=1$."
   ]
  }
 ],
 "metadata": {
  "kernelspec": {
   "display_name": "Python 3 (ipykernel)",
   "language": "python",
   "name": "python3"
  },
  "language_info": {
   "codemirror_mode": {
    "name": "ipython",
    "version": 3
   },
   "file_extension": ".py",
   "mimetype": "text/x-python",
   "name": "python",
   "nbconvert_exporter": "python",
   "pygments_lexer": "ipython3",
   "version": "3.9.12"
  }
 },
 "nbformat": 4,
 "nbformat_minor": 5
}
